{
 "cells": [
  {
   "cell_type": "code",
   "execution_count": 69,
   "metadata": {},
   "outputs": [],
   "source": [
    "import pandas as pd\n",
    "import utils\n",
    "import plotly.graph_objects as go\n",
    "import instrument"
   ]
  },
  {
   "cell_type": "code",
   "execution_count": 70,
   "metadata": {},
   "outputs": [
    {
     "name": "stderr",
     "output_type": "stream",
     "text": [
      "[*********************100%%**********************]  1 of 1 completed\n"
     ]
    },
    {
     "data": {
      "text/html": [
       "<div>\n",
       "<style scoped>\n",
       "    .dataframe tbody tr th:only-of-type {\n",
       "        vertical-align: middle;\n",
       "    }\n",
       "\n",
       "    .dataframe tbody tr th {\n",
       "        vertical-align: top;\n",
       "    }\n",
       "\n",
       "    .dataframe thead th {\n",
       "        text-align: right;\n",
       "    }\n",
       "</style>\n",
       "<table border=\"1\" class=\"dataframe\">\n",
       "  <thead>\n",
       "    <tr style=\"text-align: right;\">\n",
       "      <th></th>\n",
       "      <th>Open</th>\n",
       "      <th>High</th>\n",
       "      <th>Low</th>\n",
       "      <th>Close</th>\n",
       "      <th>Adj Close</th>\n",
       "      <th>Volume</th>\n",
       "    </tr>\n",
       "    <tr>\n",
       "      <th>Datetime</th>\n",
       "      <th></th>\n",
       "      <th></th>\n",
       "      <th></th>\n",
       "      <th></th>\n",
       "      <th></th>\n",
       "      <th></th>\n",
       "    </tr>\n",
       "  </thead>\n",
       "  <tbody>\n",
       "    <tr>\n",
       "      <th>2024-03-01 00:00:00+00:00</th>\n",
       "      <td>1.080964</td>\n",
       "      <td>1.081549</td>\n",
       "      <td>1.080847</td>\n",
       "      <td>1.081432</td>\n",
       "      <td>1.081432</td>\n",
       "      <td>0</td>\n",
       "    </tr>\n",
       "    <tr>\n",
       "      <th>2024-03-01 01:00:00+00:00</th>\n",
       "      <td>1.081432</td>\n",
       "      <td>1.082368</td>\n",
       "      <td>1.081432</td>\n",
       "      <td>1.082368</td>\n",
       "      <td>1.082368</td>\n",
       "      <td>0</td>\n",
       "    </tr>\n",
       "    <tr>\n",
       "      <th>2024-03-01 02:00:00+00:00</th>\n",
       "      <td>1.082368</td>\n",
       "      <td>1.082485</td>\n",
       "      <td>1.082017</td>\n",
       "      <td>1.082251</td>\n",
       "      <td>1.082251</td>\n",
       "      <td>0</td>\n",
       "    </tr>\n",
       "    <tr>\n",
       "      <th>2024-03-01 03:00:00+00:00</th>\n",
       "      <td>1.082134</td>\n",
       "      <td>1.082368</td>\n",
       "      <td>1.082017</td>\n",
       "      <td>1.082017</td>\n",
       "      <td>1.082017</td>\n",
       "      <td>0</td>\n",
       "    </tr>\n",
       "    <tr>\n",
       "      <th>2024-03-01 04:00:00+00:00</th>\n",
       "      <td>1.082017</td>\n",
       "      <td>1.082017</td>\n",
       "      <td>1.081549</td>\n",
       "      <td>1.081666</td>\n",
       "      <td>1.081666</td>\n",
       "      <td>0</td>\n",
       "    </tr>\n",
       "    <tr>\n",
       "      <th>...</th>\n",
       "      <td>...</td>\n",
       "      <td>...</td>\n",
       "      <td>...</td>\n",
       "      <td>...</td>\n",
       "      <td>...</td>\n",
       "      <td>...</td>\n",
       "    </tr>\n",
       "    <tr>\n",
       "      <th>2024-04-19 18:00:00+01:00</th>\n",
       "      <td>1.065644</td>\n",
       "      <td>1.066098</td>\n",
       "      <td>1.065417</td>\n",
       "      <td>1.065871</td>\n",
       "      <td>1.065871</td>\n",
       "      <td>0</td>\n",
       "    </tr>\n",
       "    <tr>\n",
       "      <th>2024-04-19 19:00:00+01:00</th>\n",
       "      <td>1.065757</td>\n",
       "      <td>1.065757</td>\n",
       "      <td>1.064963</td>\n",
       "      <td>1.065417</td>\n",
       "      <td>1.065417</td>\n",
       "      <td>0</td>\n",
       "    </tr>\n",
       "    <tr>\n",
       "      <th>2024-04-19 20:00:00+01:00</th>\n",
       "      <td>1.065303</td>\n",
       "      <td>1.065757</td>\n",
       "      <td>1.065303</td>\n",
       "      <td>1.065757</td>\n",
       "      <td>1.065757</td>\n",
       "      <td>0</td>\n",
       "    </tr>\n",
       "    <tr>\n",
       "      <th>2024-04-19 21:00:00+01:00</th>\n",
       "      <td>1.065757</td>\n",
       "      <td>1.066098</td>\n",
       "      <td>1.065644</td>\n",
       "      <td>1.065984</td>\n",
       "      <td>1.065984</td>\n",
       "      <td>0</td>\n",
       "    </tr>\n",
       "    <tr>\n",
       "      <th>2024-04-19 22:00:00+01:00</th>\n",
       "      <td>1.066098</td>\n",
       "      <td>1.066098</td>\n",
       "      <td>1.066098</td>\n",
       "      <td>1.066098</td>\n",
       "      <td>1.066098</td>\n",
       "      <td>0</td>\n",
       "    </tr>\n",
       "  </tbody>\n",
       "</table>\n",
       "<p>854 rows × 6 columns</p>\n",
       "</div>"
      ],
      "text/plain": [
       "                               Open      High       Low     Close  Adj Close   \n",
       "Datetime                                                                       \n",
       "2024-03-01 00:00:00+00:00  1.080964  1.081549  1.080847  1.081432   1.081432  \\\n",
       "2024-03-01 01:00:00+00:00  1.081432  1.082368  1.081432  1.082368   1.082368   \n",
       "2024-03-01 02:00:00+00:00  1.082368  1.082485  1.082017  1.082251   1.082251   \n",
       "2024-03-01 03:00:00+00:00  1.082134  1.082368  1.082017  1.082017   1.082017   \n",
       "2024-03-01 04:00:00+00:00  1.082017  1.082017  1.081549  1.081666   1.081666   \n",
       "...                             ...       ...       ...       ...        ...   \n",
       "2024-04-19 18:00:00+01:00  1.065644  1.066098  1.065417  1.065871   1.065871   \n",
       "2024-04-19 19:00:00+01:00  1.065757  1.065757  1.064963  1.065417   1.065417   \n",
       "2024-04-19 20:00:00+01:00  1.065303  1.065757  1.065303  1.065757   1.065757   \n",
       "2024-04-19 21:00:00+01:00  1.065757  1.066098  1.065644  1.065984   1.065984   \n",
       "2024-04-19 22:00:00+01:00  1.066098  1.066098  1.066098  1.066098   1.066098   \n",
       "\n",
       "                           Volume  \n",
       "Datetime                           \n",
       "2024-03-01 00:00:00+00:00       0  \n",
       "2024-03-01 01:00:00+00:00       0  \n",
       "2024-03-01 02:00:00+00:00       0  \n",
       "2024-03-01 03:00:00+00:00       0  \n",
       "2024-03-01 04:00:00+00:00       0  \n",
       "...                           ...  \n",
       "2024-04-19 18:00:00+01:00       0  \n",
       "2024-04-19 19:00:00+01:00       0  \n",
       "2024-04-19 20:00:00+01:00       0  \n",
       "2024-04-19 21:00:00+01:00       0  \n",
       "2024-04-19 22:00:00+01:00       0  \n",
       "\n",
       "[854 rows x 6 columns]"
      ]
     },
     "execution_count": 70,
     "metadata": {},
     "output_type": "execute_result"
    }
   ],
   "source": [
    "import yfinance as yf #  pip install yfinance \n",
    "symbol='EURUSD=X'\n",
    "start_date='2024-3-1'\n",
    "end_date='2024-4-20'\n",
    "interval='1h'\n",
    "data= yf.download(tickers=symbol,start=start_date,end=end_date,interval=interval)\n",
    "data=pd.DataFrame(data)\n",
    "data\n"
   ]
  },
  {
   "cell_type": "code",
   "execution_count": 71,
   "metadata": {},
   "outputs": [
    {
     "data": {
      "text/html": [
       "<div>\n",
       "<style scoped>\n",
       "    .dataframe tbody tr th:only-of-type {\n",
       "        vertical-align: middle;\n",
       "    }\n",
       "\n",
       "    .dataframe tbody tr th {\n",
       "        vertical-align: top;\n",
       "    }\n",
       "\n",
       "    .dataframe thead th {\n",
       "        text-align: right;\n",
       "    }\n",
       "</style>\n",
       "<table border=\"1\" class=\"dataframe\">\n",
       "  <thead>\n",
       "    <tr style=\"text-align: right;\">\n",
       "      <th></th>\n",
       "      <th>time</th>\n",
       "      <th>open</th>\n",
       "      <th>high</th>\n",
       "      <th>low</th>\n",
       "      <th>close</th>\n",
       "      <th>adj close</th>\n",
       "      <th>volume</th>\n",
       "    </tr>\n",
       "  </thead>\n",
       "  <tbody>\n",
       "    <tr>\n",
       "      <th>0</th>\n",
       "      <td>2024-03-01 00</td>\n",
       "      <td>1.080964</td>\n",
       "      <td>1.081549</td>\n",
       "      <td>1.080847</td>\n",
       "      <td>1.081432</td>\n",
       "      <td>1.081432</td>\n",
       "      <td>0</td>\n",
       "    </tr>\n",
       "    <tr>\n",
       "      <th>1</th>\n",
       "      <td>2024-03-01 01</td>\n",
       "      <td>1.081432</td>\n",
       "      <td>1.082368</td>\n",
       "      <td>1.081432</td>\n",
       "      <td>1.082368</td>\n",
       "      <td>1.082368</td>\n",
       "      <td>0</td>\n",
       "    </tr>\n",
       "    <tr>\n",
       "      <th>2</th>\n",
       "      <td>2024-03-01 02</td>\n",
       "      <td>1.082368</td>\n",
       "      <td>1.082485</td>\n",
       "      <td>1.082017</td>\n",
       "      <td>1.082251</td>\n",
       "      <td>1.082251</td>\n",
       "      <td>0</td>\n",
       "    </tr>\n",
       "    <tr>\n",
       "      <th>3</th>\n",
       "      <td>2024-03-01 03</td>\n",
       "      <td>1.082134</td>\n",
       "      <td>1.082368</td>\n",
       "      <td>1.082017</td>\n",
       "      <td>1.082017</td>\n",
       "      <td>1.082017</td>\n",
       "      <td>0</td>\n",
       "    </tr>\n",
       "    <tr>\n",
       "      <th>4</th>\n",
       "      <td>2024-03-01 04</td>\n",
       "      <td>1.082017</td>\n",
       "      <td>1.082017</td>\n",
       "      <td>1.081549</td>\n",
       "      <td>1.081666</td>\n",
       "      <td>1.081666</td>\n",
       "      <td>0</td>\n",
       "    </tr>\n",
       "  </tbody>\n",
       "</table>\n",
       "</div>"
      ],
      "text/plain": [
       "            time      open      high       low     close  adj close  volume\n",
       "0  2024-03-01 00  1.080964  1.081549  1.080847  1.081432   1.081432       0\n",
       "1  2024-03-01 01  1.081432  1.082368  1.081432  1.082368   1.082368       0\n",
       "2  2024-03-01 02  1.082368  1.082485  1.082017  1.082251   1.082251       0\n",
       "3  2024-03-01 03  1.082134  1.082368  1.082017  1.082017   1.082017       0\n",
       "4  2024-03-01 04  1.082017  1.082017  1.081549  1.081666   1.081666       0"
      ]
     },
     "execution_count": 71,
     "metadata": {},
     "output_type": "execute_result"
    }
   ],
   "source": [
    "# Reset the index to move the datetime information into a column\n",
    "data.reset_index(inplace=True)\n",
    "data.rename(columns={    'Datetime': 'time','Open': 'open', 'High': 'high', 'Low': 'low', 'Close': 'close', 'Volume': 'volume','Adj Close':'adj close'}, inplace=True)\n",
    "data['time']=data['time'].astype('str')\n",
    "data['time']=data['time'].str.replace(\":00:00+00:00\", \"\")\n",
    "data.head()\n"
   ]
  },
  {
   "cell_type": "code",
   "execution_count": 72,
   "metadata": {},
   "outputs": [],
   "source": [
    "pair = \"EUR_USD\"\n",
    "granularity = \"H1\"\n",
    "ma_list = [16,64]\n",
    "i_pair = instrument.Instrument.get_instrument_by_name(\"EUR_USD\")"
   ]
  },
  {
   "cell_type": "code",
   "execution_count": 73,
   "metadata": {},
   "outputs": [],
   "source": [
    "#df = pd.read_pickle(utils.get_his_data_filename(pair, granularity))\n",
    "non_cols = ['time', 'volume']\n",
    "mod_cols = [x for x in data.columns if x not in non_cols]\n",
    "data[mod_cols] = data[mod_cols].apply(pd.to_numeric)"
   ]
  },
  {
   "cell_type": "code",
   "execution_count": 81,
   "metadata": {},
   "outputs": [
    {
     "data": {
      "text/html": [
       "<div>\n",
       "<style scoped>\n",
       "    .dataframe tbody tr th:only-of-type {\n",
       "        vertical-align: middle;\n",
       "    }\n",
       "\n",
       "    .dataframe tbody tr th {\n",
       "        vertical-align: top;\n",
       "    }\n",
       "\n",
       "    .dataframe thead th {\n",
       "        text-align: right;\n",
       "    }\n",
       "</style>\n",
       "<table border=\"1\" class=\"dataframe\">\n",
       "  <thead>\n",
       "    <tr style=\"text-align: right;\">\n",
       "      <th></th>\n",
       "      <th>time</th>\n",
       "      <th>mid_o</th>\n",
       "      <th>mid_h</th>\n",
       "      <th>mid_l</th>\n",
       "      <th>mid_c</th>\n",
       "      <th>adj close</th>\n",
       "      <th>volume</th>\n",
       "    </tr>\n",
       "  </thead>\n",
       "  <tbody>\n",
       "    <tr>\n",
       "      <th>0</th>\n",
       "      <td>2024-03-01 00</td>\n",
       "      <td>1.080964</td>\n",
       "      <td>1.081549</td>\n",
       "      <td>1.080847</td>\n",
       "      <td>1.081432</td>\n",
       "      <td>1.081432</td>\n",
       "      <td>0</td>\n",
       "    </tr>\n",
       "    <tr>\n",
       "      <th>1</th>\n",
       "      <td>2024-03-01 01</td>\n",
       "      <td>1.081432</td>\n",
       "      <td>1.082368</td>\n",
       "      <td>1.081432</td>\n",
       "      <td>1.082368</td>\n",
       "      <td>1.082368</td>\n",
       "      <td>0</td>\n",
       "    </tr>\n",
       "    <tr>\n",
       "      <th>2</th>\n",
       "      <td>2024-03-01 02</td>\n",
       "      <td>1.082368</td>\n",
       "      <td>1.082485</td>\n",
       "      <td>1.082017</td>\n",
       "      <td>1.082251</td>\n",
       "      <td>1.082251</td>\n",
       "      <td>0</td>\n",
       "    </tr>\n",
       "    <tr>\n",
       "      <th>3</th>\n",
       "      <td>2024-03-01 03</td>\n",
       "      <td>1.082134</td>\n",
       "      <td>1.082368</td>\n",
       "      <td>1.082017</td>\n",
       "      <td>1.082017</td>\n",
       "      <td>1.082017</td>\n",
       "      <td>0</td>\n",
       "    </tr>\n",
       "    <tr>\n",
       "      <th>4</th>\n",
       "      <td>2024-03-01 04</td>\n",
       "      <td>1.082017</td>\n",
       "      <td>1.082017</td>\n",
       "      <td>1.081549</td>\n",
       "      <td>1.081666</td>\n",
       "      <td>1.081666</td>\n",
       "      <td>0</td>\n",
       "    </tr>\n",
       "  </tbody>\n",
       "</table>\n",
       "</div>"
      ],
      "text/plain": [
       "            time     mid_o     mid_h     mid_l     mid_c  adj close  volume\n",
       "0  2024-03-01 00  1.080964  1.081549  1.080847  1.081432   1.081432       0\n",
       "1  2024-03-01 01  1.081432  1.082368  1.081432  1.082368   1.082368       0\n",
       "2  2024-03-01 02  1.082368  1.082485  1.082017  1.082251   1.082251       0\n",
       "3  2024-03-01 03  1.082134  1.082368  1.082017  1.082017   1.082017       0\n",
       "4  2024-03-01 04  1.082017  1.082017  1.081549  1.081666   1.081666       0"
      ]
     },
     "execution_count": 81,
     "metadata": {},
     "output_type": "execute_result"
    }
   ],
   "source": [
    "data.rename(columns={    'time': 'time','open': 'mid_o', 'high': 'mid_h', 'low': 'mid_l', 'close':'mid_c', 'Volume': 'volume','Adj Close':'adj close'}, inplace=True)\n",
    "\n",
    "data.head()"
   ]
  },
  {
   "cell_type": "code",
   "execution_count": 82,
   "metadata": {},
   "outputs": [],
   "source": [
    "df_ma = data[['time', 'mid_o', 'mid_h', 'mid_l', 'mid_c']].copy()\n",
    "for ma in ma_list:  \n",
    "    df_ma[f'MA_{ma}'] = df_ma.mid_c.rolling(window=ma).mean()\n",
    "df_ma.dropna(inplace=True)\n",
    "df_ma.reset_index(drop=True, inplace=True)"
   ]
  },
  {
   "cell_type": "code",
   "execution_count": 83,
   "metadata": {},
   "outputs": [
    {
     "data": {
      "text/html": [
       "<div>\n",
       "<style scoped>\n",
       "    .dataframe tbody tr th:only-of-type {\n",
       "        vertical-align: middle;\n",
       "    }\n",
       "\n",
       "    .dataframe tbody tr th {\n",
       "        vertical-align: top;\n",
       "    }\n",
       "\n",
       "    .dataframe thead th {\n",
       "        text-align: right;\n",
       "    }\n",
       "</style>\n",
       "<table border=\"1\" class=\"dataframe\">\n",
       "  <thead>\n",
       "    <tr style=\"text-align: right;\">\n",
       "      <th></th>\n",
       "      <th>time</th>\n",
       "      <th>mid_o</th>\n",
       "      <th>mid_h</th>\n",
       "      <th>mid_l</th>\n",
       "      <th>mid_c</th>\n",
       "      <th>MA_16</th>\n",
       "      <th>MA_64</th>\n",
       "    </tr>\n",
       "  </thead>\n",
       "  <tbody>\n",
       "    <tr>\n",
       "      <th>0</th>\n",
       "      <td>2024-03-05 16</td>\n",
       "      <td>1.087429</td>\n",
       "      <td>1.087429</td>\n",
       "      <td>1.086130</td>\n",
       "      <td>1.086484</td>\n",
       "      <td>1.085431</td>\n",
       "      <td>1.084386</td>\n",
       "    </tr>\n",
       "    <tr>\n",
       "      <th>1</th>\n",
       "      <td>2024-03-05 17</td>\n",
       "      <td>1.086484</td>\n",
       "      <td>1.086720</td>\n",
       "      <td>1.086130</td>\n",
       "      <td>1.086248</td>\n",
       "      <td>1.085489</td>\n",
       "      <td>1.084462</td>\n",
       "    </tr>\n",
       "    <tr>\n",
       "      <th>2</th>\n",
       "      <td>2024-03-05 18</td>\n",
       "      <td>1.086248</td>\n",
       "      <td>1.086248</td>\n",
       "      <td>1.085541</td>\n",
       "      <td>1.085541</td>\n",
       "      <td>1.085504</td>\n",
       "      <td>1.084511</td>\n",
       "    </tr>\n",
       "    <tr>\n",
       "      <th>3</th>\n",
       "      <td>2024-03-05 19</td>\n",
       "      <td>1.085541</td>\n",
       "      <td>1.085894</td>\n",
       "      <td>1.085423</td>\n",
       "      <td>1.085541</td>\n",
       "      <td>1.085489</td>\n",
       "      <td>1.084563</td>\n",
       "    </tr>\n",
       "    <tr>\n",
       "      <th>4</th>\n",
       "      <td>2024-03-05 20</td>\n",
       "      <td>1.085658</td>\n",
       "      <td>1.086130</td>\n",
       "      <td>1.085187</td>\n",
       "      <td>1.086130</td>\n",
       "      <td>1.085534</td>\n",
       "      <td>1.084627</td>\n",
       "    </tr>\n",
       "  </tbody>\n",
       "</table>\n",
       "</div>"
      ],
      "text/plain": [
       "            time     mid_o     mid_h     mid_l     mid_c     MA_16     MA_64\n",
       "0  2024-03-05 16  1.087429  1.087429  1.086130  1.086484  1.085431  1.084386\n",
       "1  2024-03-05 17  1.086484  1.086720  1.086130  1.086248  1.085489  1.084462\n",
       "2  2024-03-05 18  1.086248  1.086248  1.085541  1.085541  1.085504  1.084511\n",
       "3  2024-03-05 19  1.085541  1.085894  1.085423  1.085541  1.085489  1.084563\n",
       "4  2024-03-05 20  1.085658  1.086130  1.085187  1.086130  1.085534  1.084627"
      ]
     },
     "execution_count": 83,
     "metadata": {},
     "output_type": "execute_result"
    }
   ],
   "source": [
    "df_ma.head()"
   ]
  },
  {
   "cell_type": "code",
   "execution_count": 84,
   "metadata": {},
   "outputs": [],
   "source": [
    "def is_trade(row):\n",
    "    if row.DIFF >= 0 and row.DIFF_PREV < 0:\n",
    "        return True\n",
    "    if row.DIFF <= 0 and row.DIFF_PREV > 0:\n",
    "        return True\n",
    "    return False"
   ]
  },
  {
   "cell_type": "code",
   "execution_count": 85,
   "metadata": {},
   "outputs": [],
   "source": [
    "df_ma['DIFF'] = df_ma.MA_16 - df_ma.MA_64\n",
    "df_ma['DIFF_PREV'] = df_ma.DIFF.shift(1)\n",
    "df_ma['IS_TRADE'] = df_ma.apply(is_trade, axis=1)\n",
    "df_trades = df_ma[df_ma.IS_TRADE==True].copy()"
   ]
  },
  {
   "cell_type": "code",
   "execution_count": 86,
   "metadata": {},
   "outputs": [
    {
     "data": {
      "text/html": [
       "<div>\n",
       "<style scoped>\n",
       "    .dataframe tbody tr th:only-of-type {\n",
       "        vertical-align: middle;\n",
       "    }\n",
       "\n",
       "    .dataframe tbody tr th {\n",
       "        vertical-align: top;\n",
       "    }\n",
       "\n",
       "    .dataframe thead th {\n",
       "        text-align: right;\n",
       "    }\n",
       "</style>\n",
       "<table border=\"1\" class=\"dataframe\">\n",
       "  <thead>\n",
       "    <tr style=\"text-align: right;\">\n",
       "      <th></th>\n",
       "      <th>time</th>\n",
       "      <th>mid_o</th>\n",
       "      <th>mid_h</th>\n",
       "      <th>mid_l</th>\n",
       "      <th>mid_c</th>\n",
       "      <th>MA_16</th>\n",
       "      <th>MA_64</th>\n",
       "      <th>DIFF</th>\n",
       "      <th>DIFF_PREV</th>\n",
       "      <th>IS_TRADE</th>\n",
       "    </tr>\n",
       "  </thead>\n",
       "  <tbody>\n",
       "    <tr>\n",
       "      <th>100</th>\n",
       "      <td>2024-03-11 21</td>\n",
       "      <td>1.092777</td>\n",
       "      <td>1.093016</td>\n",
       "      <td>1.092657</td>\n",
       "      <td>1.093016</td>\n",
       "      <td>1.093449</td>\n",
       "      <td>1.093562</td>\n",
       "      <td>-1.126211e-04</td>\n",
       "      <td>0.000014</td>\n",
       "      <td>True</td>\n",
       "    </tr>\n",
       "    <tr>\n",
       "      <th>142</th>\n",
       "      <td>2024-03-13 15</td>\n",
       "      <td>1.094691</td>\n",
       "      <td>1.095050</td>\n",
       "      <td>1.094212</td>\n",
       "      <td>1.094571</td>\n",
       "      <td>1.093412</td>\n",
       "      <td>1.093377</td>\n",
       "      <td>3.533252e-05</td>\n",
       "      <td>-0.000056</td>\n",
       "      <td>True</td>\n",
       "    </tr>\n",
       "    <tr>\n",
       "      <th>166</th>\n",
       "      <td>2024-03-14 15</td>\n",
       "      <td>1.090037</td>\n",
       "      <td>1.090275</td>\n",
       "      <td>1.088613</td>\n",
       "      <td>1.089087</td>\n",
       "      <td>1.093579</td>\n",
       "      <td>1.093579</td>\n",
       "      <td>-6.072223e-07</td>\n",
       "      <td>0.000343</td>\n",
       "      <td>True</td>\n",
       "    </tr>\n",
       "    <tr>\n",
       "      <th>268</th>\n",
       "      <td>2024-03-20 22</td>\n",
       "      <td>1.092538</td>\n",
       "      <td>1.093494</td>\n",
       "      <td>1.092538</td>\n",
       "      <td>1.093494</td>\n",
       "      <td>1.087625</td>\n",
       "      <td>1.087361</td>\n",
       "      <td>2.635811e-04</td>\n",
       "      <td>-0.000054</td>\n",
       "      <td>True</td>\n",
       "    </tr>\n",
       "    <tr>\n",
       "      <th>293</th>\n",
       "      <td>2024-03-21 23</td>\n",
       "      <td>1.086484</td>\n",
       "      <td>1.086602</td>\n",
       "      <td>1.086366</td>\n",
       "      <td>1.086484</td>\n",
       "      <td>1.088129</td>\n",
       "      <td>1.088145</td>\n",
       "      <td>-1.559034e-05</td>\n",
       "      <td>0.000413</td>\n",
       "      <td>True</td>\n",
       "    </tr>\n",
       "  </tbody>\n",
       "</table>\n",
       "</div>"
      ],
      "text/plain": [
       "              time     mid_o     mid_h     mid_l     mid_c     MA_16   \n",
       "100  2024-03-11 21  1.092777  1.093016  1.092657  1.093016  1.093449  \\\n",
       "142  2024-03-13 15  1.094691  1.095050  1.094212  1.094571  1.093412   \n",
       "166  2024-03-14 15  1.090037  1.090275  1.088613  1.089087  1.093579   \n",
       "268  2024-03-20 22  1.092538  1.093494  1.092538  1.093494  1.087625   \n",
       "293  2024-03-21 23  1.086484  1.086602  1.086366  1.086484  1.088129   \n",
       "\n",
       "        MA_64          DIFF  DIFF_PREV  IS_TRADE  \n",
       "100  1.093562 -1.126211e-04   0.000014      True  \n",
       "142  1.093377  3.533252e-05  -0.000056      True  \n",
       "166  1.093579 -6.072223e-07   0.000343      True  \n",
       "268  1.087361  2.635811e-04  -0.000054      True  \n",
       "293  1.088145 -1.559034e-05   0.000413      True  "
      ]
     },
     "execution_count": 86,
     "metadata": {},
     "output_type": "execute_result"
    }
   ],
   "source": [
    "df_trades.head()"
   ]
  },
  {
   "cell_type": "code",
   "execution_count": 87,
   "metadata": {},
   "outputs": [],
   "source": [
    "df_plot = df_ma.iloc[0:24].copy()"
   ]
  },
  {
   "cell_type": "code",
   "execution_count": 88,
   "metadata": {},
   "outputs": [
    {
     "data": {
      "text/plain": [
       "(24, 10)"
      ]
     },
     "execution_count": 88,
     "metadata": {},
     "output_type": "execute_result"
    }
   ],
   "source": [
    "df_plot.shape"
   ]
  },
  {
   "cell_type": "code",
   "execution_count": 89,
   "metadata": {},
   "outputs": [
    {
     "data": {
      "application/vnd.plotly.v1+json": {
       "config": {
        "plotlyServerURL": "https://plot.ly"
       },
       "data": [
        {
         "close": [
          1.0864840745925903,
          1.0862481594085693,
          1.0855406522750854,
          1.0855406522750854,
          1.086130142211914,
          1.0860122442245483,
          1.0860122442245483,
          1.085894227027893,
          1.0853049755096436,
          1.0847163200378418,
          1.0855406522750854,
          1.0854227542877197,
          1.0854227542877197,
          1.0857763290405273,
          1.0862481594085693,
          1.0864840745925903,
          1.0875475406646729,
          1.088020920753479,
          1.088020920753479,
          1.087902545928955,
          1.0871928930282593,
          1.0887316465377808,
          1.0890873670578003,
          1.0911074876785278
         ],
         "decreasing": {
          "fillcolor": "#CC2E3C",
          "line": {
           "color": "#FF3A4C"
          }
         },
         "high": [
          1.0874292850494385,
          1.08672034740448,
          1.0862481594085693,
          1.085894227027893,
          1.086130142211914,
          1.086130142211914,
          1.086130142211914,
          1.086130142211914,
          1.085894227027893,
          1.0853049755096436,
          1.0856584310531616,
          1.0855406522750854,
          1.0855406522750854,
          1.0860122442245483,
          1.0863661766052246,
          1.0868383646011353,
          1.0876659154891968,
          1.088139295578003,
          1.0882576704025269,
          1.088139295578003,
          1.088139295578003,
          1.0887316465377808,
          1.0892059803009033,
          1.0911074876785278
         ],
         "increasing": {
          "fillcolor": "#24A06B",
          "line": {
           "color": "#2EC886"
          }
         },
         "line": {
          "width": 1
         },
         "low": [
          1.086130142211914,
          1.086130142211914,
          1.0855406522750854,
          1.0854227542877197,
          1.0851871967315674,
          1.085894227027893,
          1.0857763290405273,
          1.085894227027893,
          1.0853049755096436,
          1.0845986604690552,
          1.0847163200378418,
          1.0853049755096436,
          1.0853049755096436,
          1.0854227542877197,
          1.0857763290405273,
          1.0862481594085693,
          1.0862481594085693,
          1.087311029434204,
          1.0876659154891968,
          1.0875475406646729,
          1.087074637413025,
          1.0871928930282593,
          1.0886130332946777,
          1.0884946584701538
         ],
         "opacity": 1,
         "open": [
          1.0874292850494385,
          1.0864840745925903,
          1.0862481594085693,
          1.0855406522750854,
          1.0856584310531616,
          1.086130142211914,
          1.086130142211914,
          1.0860122442245483,
          1.085894227027893,
          1.0853049755096436,
          1.0847163200378418,
          1.0855406522750854,
          1.0853049755096436,
          1.0854227542877197,
          1.0857763290405273,
          1.0862481594085693,
          1.0863661766052246,
          1.0876659154891968,
          1.087902545928955,
          1.088020920753479,
          1.088020920753479,
          1.0874292850494385,
          1.0888501405715942,
          1.0888501405715942
         ],
         "type": "candlestick",
         "x": [
          "2024-03-05 16",
          "2024-03-05 17",
          "2024-03-05 18",
          "2024-03-05 19",
          "2024-03-05 20",
          "2024-03-05 21",
          "2024-03-05 22",
          "2024-03-05 23",
          "2024-03-06 00",
          "2024-03-06 01",
          "2024-03-06 02",
          "2024-03-06 03",
          "2024-03-06 04",
          "2024-03-06 05",
          "2024-03-06 06",
          "2024-03-06 07",
          "2024-03-06 08",
          "2024-03-06 09",
          "2024-03-06 10",
          "2024-03-06 11",
          "2024-03-06 12",
          "2024-03-06 13",
          "2024-03-06 14",
          "2024-03-06 15"
         ]
        },
        {
         "line": {
          "shape": "spline",
          "width": 2
         },
         "name": "MA_16",
         "type": "scatter",
         "x": [
          "2024-03-05 16",
          "2024-03-05 17",
          "2024-03-05 18",
          "2024-03-05 19",
          "2024-03-05 20",
          "2024-03-05 21",
          "2024-03-05 22",
          "2024-03-05 23",
          "2024-03-06 00",
          "2024-03-06 01",
          "2024-03-06 02",
          "2024-03-06 03",
          "2024-03-06 04",
          "2024-03-06 05",
          "2024-03-06 06",
          "2024-03-06 07",
          "2024-03-06 08",
          "2024-03-06 09",
          "2024-03-06 10",
          "2024-03-06 11",
          "2024-03-06 12",
          "2024-03-06 13",
          "2024-03-06 14",
          "2024-03-06 15"
         ],
         "y": [
          1.0854305177927017,
          1.0854894667863846,
          1.0855041965842247,
          1.0854894667863846,
          1.0855336785316467,
          1.0855631530284882,
          1.0856220796704292,
          1.0856883451342583,
          1.0857030674815178,
          1.0856589153409004,
          1.0856736451387405,
          1.085688367486,
          1.0857178047299385,
          1.0857693403959274,
          1.0858577266335487,
          1.0857986509799957,
          1.0858651176095009,
          1.0859759151935577,
          1.0861309319734573,
          1.0862785503268242,
          1.0863449722528458,
          1.0865149348974228,
          1.086707130074501,
          1.0870329588651657
         ]
        },
        {
         "line": {
          "shape": "spline",
          "width": 2
         },
         "name": "MA_64",
         "type": "scatter",
         "x": [
          "2024-03-05 16",
          "2024-03-05 17",
          "2024-03-05 18",
          "2024-03-05 19",
          "2024-03-05 20",
          "2024-03-05 21",
          "2024-03-05 22",
          "2024-03-05 23",
          "2024-03-06 00",
          "2024-03-06 01",
          "2024-03-06 02",
          "2024-03-06 03",
          "2024-03-06 04",
          "2024-03-06 05",
          "2024-03-06 06",
          "2024-03-06 07",
          "2024-03-06 08",
          "2024-03-06 09",
          "2024-03-06 10",
          "2024-03-06 11",
          "2024-03-06 12",
          "2024-03-06 13",
          "2024-03-06 14",
          "2024-03-06 15"
         ],
         "y": [
          1.0843863617628813,
          1.0844616182148457,
          1.084511186927557,
          1.08456258662045,
          1.0846268571913242,
          1.0846947710961103,
          1.0847645122557878,
          1.0848378911614418,
          1.0848947539925575,
          1.0849479008466005,
          1.0850047897547483,
          1.0850689746439457,
          1.0851203612983227,
          1.0851864162832499,
          1.0852598436176777,
          1.0853570383042097,
          1.085414133965969,
          1.0854841321706772,
          1.0855467896908522,
          1.0856020879000425,
          1.0856444593518972,
          1.0857163853943348,
          1.0857920330017805,
          1.0859047528356314
         ]
        }
       ],
       "layout": {
        "font": {
         "color": "#e1e1e1",
         "size": 10
        },
        "height": 400,
        "margin": {
         "b": 10,
         "l": 10,
         "r": 10,
         "t": 10
        },
        "paper_bgcolor": "#1e1e1e",
        "plot_bgcolor": "#1e1e1e",
        "template": {
         "data": {
          "bar": [
           {
            "error_x": {
             "color": "#2a3f5f"
            },
            "error_y": {
             "color": "#2a3f5f"
            },
            "marker": {
             "line": {
              "color": "#E5ECF6",
              "width": 0.5
             },
             "pattern": {
              "fillmode": "overlay",
              "size": 10,
              "solidity": 0.2
             }
            },
            "type": "bar"
           }
          ],
          "barpolar": [
           {
            "marker": {
             "line": {
              "color": "#E5ECF6",
              "width": 0.5
             },
             "pattern": {
              "fillmode": "overlay",
              "size": 10,
              "solidity": 0.2
             }
            },
            "type": "barpolar"
           }
          ],
          "carpet": [
           {
            "aaxis": {
             "endlinecolor": "#2a3f5f",
             "gridcolor": "white",
             "linecolor": "white",
             "minorgridcolor": "white",
             "startlinecolor": "#2a3f5f"
            },
            "baxis": {
             "endlinecolor": "#2a3f5f",
             "gridcolor": "white",
             "linecolor": "white",
             "minorgridcolor": "white",
             "startlinecolor": "#2a3f5f"
            },
            "type": "carpet"
           }
          ],
          "choropleth": [
           {
            "colorbar": {
             "outlinewidth": 0,
             "ticks": ""
            },
            "type": "choropleth"
           }
          ],
          "contour": [
           {
            "colorbar": {
             "outlinewidth": 0,
             "ticks": ""
            },
            "colorscale": [
             [
              0,
              "#0d0887"
             ],
             [
              0.1111111111111111,
              "#46039f"
             ],
             [
              0.2222222222222222,
              "#7201a8"
             ],
             [
              0.3333333333333333,
              "#9c179e"
             ],
             [
              0.4444444444444444,
              "#bd3786"
             ],
             [
              0.5555555555555556,
              "#d8576b"
             ],
             [
              0.6666666666666666,
              "#ed7953"
             ],
             [
              0.7777777777777778,
              "#fb9f3a"
             ],
             [
              0.8888888888888888,
              "#fdca26"
             ],
             [
              1,
              "#f0f921"
             ]
            ],
            "type": "contour"
           }
          ],
          "contourcarpet": [
           {
            "colorbar": {
             "outlinewidth": 0,
             "ticks": ""
            },
            "type": "contourcarpet"
           }
          ],
          "heatmap": [
           {
            "colorbar": {
             "outlinewidth": 0,
             "ticks": ""
            },
            "colorscale": [
             [
              0,
              "#0d0887"
             ],
             [
              0.1111111111111111,
              "#46039f"
             ],
             [
              0.2222222222222222,
              "#7201a8"
             ],
             [
              0.3333333333333333,
              "#9c179e"
             ],
             [
              0.4444444444444444,
              "#bd3786"
             ],
             [
              0.5555555555555556,
              "#d8576b"
             ],
             [
              0.6666666666666666,
              "#ed7953"
             ],
             [
              0.7777777777777778,
              "#fb9f3a"
             ],
             [
              0.8888888888888888,
              "#fdca26"
             ],
             [
              1,
              "#f0f921"
             ]
            ],
            "type": "heatmap"
           }
          ],
          "heatmapgl": [
           {
            "colorbar": {
             "outlinewidth": 0,
             "ticks": ""
            },
            "colorscale": [
             [
              0,
              "#0d0887"
             ],
             [
              0.1111111111111111,
              "#46039f"
             ],
             [
              0.2222222222222222,
              "#7201a8"
             ],
             [
              0.3333333333333333,
              "#9c179e"
             ],
             [
              0.4444444444444444,
              "#bd3786"
             ],
             [
              0.5555555555555556,
              "#d8576b"
             ],
             [
              0.6666666666666666,
              "#ed7953"
             ],
             [
              0.7777777777777778,
              "#fb9f3a"
             ],
             [
              0.8888888888888888,
              "#fdca26"
             ],
             [
              1,
              "#f0f921"
             ]
            ],
            "type": "heatmapgl"
           }
          ],
          "histogram": [
           {
            "marker": {
             "pattern": {
              "fillmode": "overlay",
              "size": 10,
              "solidity": 0.2
             }
            },
            "type": "histogram"
           }
          ],
          "histogram2d": [
           {
            "colorbar": {
             "outlinewidth": 0,
             "ticks": ""
            },
            "colorscale": [
             [
              0,
              "#0d0887"
             ],
             [
              0.1111111111111111,
              "#46039f"
             ],
             [
              0.2222222222222222,
              "#7201a8"
             ],
             [
              0.3333333333333333,
              "#9c179e"
             ],
             [
              0.4444444444444444,
              "#bd3786"
             ],
             [
              0.5555555555555556,
              "#d8576b"
             ],
             [
              0.6666666666666666,
              "#ed7953"
             ],
             [
              0.7777777777777778,
              "#fb9f3a"
             ],
             [
              0.8888888888888888,
              "#fdca26"
             ],
             [
              1,
              "#f0f921"
             ]
            ],
            "type": "histogram2d"
           }
          ],
          "histogram2dcontour": [
           {
            "colorbar": {
             "outlinewidth": 0,
             "ticks": ""
            },
            "colorscale": [
             [
              0,
              "#0d0887"
             ],
             [
              0.1111111111111111,
              "#46039f"
             ],
             [
              0.2222222222222222,
              "#7201a8"
             ],
             [
              0.3333333333333333,
              "#9c179e"
             ],
             [
              0.4444444444444444,
              "#bd3786"
             ],
             [
              0.5555555555555556,
              "#d8576b"
             ],
             [
              0.6666666666666666,
              "#ed7953"
             ],
             [
              0.7777777777777778,
              "#fb9f3a"
             ],
             [
              0.8888888888888888,
              "#fdca26"
             ],
             [
              1,
              "#f0f921"
             ]
            ],
            "type": "histogram2dcontour"
           }
          ],
          "mesh3d": [
           {
            "colorbar": {
             "outlinewidth": 0,
             "ticks": ""
            },
            "type": "mesh3d"
           }
          ],
          "parcoords": [
           {
            "line": {
             "colorbar": {
              "outlinewidth": 0,
              "ticks": ""
             }
            },
            "type": "parcoords"
           }
          ],
          "pie": [
           {
            "automargin": true,
            "type": "pie"
           }
          ],
          "scatter": [
           {
            "fillpattern": {
             "fillmode": "overlay",
             "size": 10,
             "solidity": 0.2
            },
            "type": "scatter"
           }
          ],
          "scatter3d": [
           {
            "line": {
             "colorbar": {
              "outlinewidth": 0,
              "ticks": ""
             }
            },
            "marker": {
             "colorbar": {
              "outlinewidth": 0,
              "ticks": ""
             }
            },
            "type": "scatter3d"
           }
          ],
          "scattercarpet": [
           {
            "marker": {
             "colorbar": {
              "outlinewidth": 0,
              "ticks": ""
             }
            },
            "type": "scattercarpet"
           }
          ],
          "scattergeo": [
           {
            "marker": {
             "colorbar": {
              "outlinewidth": 0,
              "ticks": ""
             }
            },
            "type": "scattergeo"
           }
          ],
          "scattergl": [
           {
            "marker": {
             "colorbar": {
              "outlinewidth": 0,
              "ticks": ""
             }
            },
            "type": "scattergl"
           }
          ],
          "scattermapbox": [
           {
            "marker": {
             "colorbar": {
              "outlinewidth": 0,
              "ticks": ""
             }
            },
            "type": "scattermapbox"
           }
          ],
          "scatterpolar": [
           {
            "marker": {
             "colorbar": {
              "outlinewidth": 0,
              "ticks": ""
             }
            },
            "type": "scatterpolar"
           }
          ],
          "scatterpolargl": [
           {
            "marker": {
             "colorbar": {
              "outlinewidth": 0,
              "ticks": ""
             }
            },
            "type": "scatterpolargl"
           }
          ],
          "scatterternary": [
           {
            "marker": {
             "colorbar": {
              "outlinewidth": 0,
              "ticks": ""
             }
            },
            "type": "scatterternary"
           }
          ],
          "surface": [
           {
            "colorbar": {
             "outlinewidth": 0,
             "ticks": ""
            },
            "colorscale": [
             [
              0,
              "#0d0887"
             ],
             [
              0.1111111111111111,
              "#46039f"
             ],
             [
              0.2222222222222222,
              "#7201a8"
             ],
             [
              0.3333333333333333,
              "#9c179e"
             ],
             [
              0.4444444444444444,
              "#bd3786"
             ],
             [
              0.5555555555555556,
              "#d8576b"
             ],
             [
              0.6666666666666666,
              "#ed7953"
             ],
             [
              0.7777777777777778,
              "#fb9f3a"
             ],
             [
              0.8888888888888888,
              "#fdca26"
             ],
             [
              1,
              "#f0f921"
             ]
            ],
            "type": "surface"
           }
          ],
          "table": [
           {
            "cells": {
             "fill": {
              "color": "#EBF0F8"
             },
             "line": {
              "color": "white"
             }
            },
            "header": {
             "fill": {
              "color": "#C8D4E3"
             },
             "line": {
              "color": "white"
             }
            },
            "type": "table"
           }
          ]
         },
         "layout": {
          "annotationdefaults": {
           "arrowcolor": "#2a3f5f",
           "arrowhead": 0,
           "arrowwidth": 1
          },
          "autotypenumbers": "strict",
          "coloraxis": {
           "colorbar": {
            "outlinewidth": 0,
            "ticks": ""
           }
          },
          "colorscale": {
           "diverging": [
            [
             0,
             "#8e0152"
            ],
            [
             0.1,
             "#c51b7d"
            ],
            [
             0.2,
             "#de77ae"
            ],
            [
             0.3,
             "#f1b6da"
            ],
            [
             0.4,
             "#fde0ef"
            ],
            [
             0.5,
             "#f7f7f7"
            ],
            [
             0.6,
             "#e6f5d0"
            ],
            [
             0.7,
             "#b8e186"
            ],
            [
             0.8,
             "#7fbc41"
            ],
            [
             0.9,
             "#4d9221"
            ],
            [
             1,
             "#276419"
            ]
           ],
           "sequential": [
            [
             0,
             "#0d0887"
            ],
            [
             0.1111111111111111,
             "#46039f"
            ],
            [
             0.2222222222222222,
             "#7201a8"
            ],
            [
             0.3333333333333333,
             "#9c179e"
            ],
            [
             0.4444444444444444,
             "#bd3786"
            ],
            [
             0.5555555555555556,
             "#d8576b"
            ],
            [
             0.6666666666666666,
             "#ed7953"
            ],
            [
             0.7777777777777778,
             "#fb9f3a"
            ],
            [
             0.8888888888888888,
             "#fdca26"
            ],
            [
             1,
             "#f0f921"
            ]
           ],
           "sequentialminus": [
            [
             0,
             "#0d0887"
            ],
            [
             0.1111111111111111,
             "#46039f"
            ],
            [
             0.2222222222222222,
             "#7201a8"
            ],
            [
             0.3333333333333333,
             "#9c179e"
            ],
            [
             0.4444444444444444,
             "#bd3786"
            ],
            [
             0.5555555555555556,
             "#d8576b"
            ],
            [
             0.6666666666666666,
             "#ed7953"
            ],
            [
             0.7777777777777778,
             "#fb9f3a"
            ],
            [
             0.8888888888888888,
             "#fdca26"
            ],
            [
             1,
             "#f0f921"
            ]
           ]
          },
          "colorway": [
           "#636efa",
           "#EF553B",
           "#00cc96",
           "#ab63fa",
           "#FFA15A",
           "#19d3f3",
           "#FF6692",
           "#B6E880",
           "#FF97FF",
           "#FECB52"
          ],
          "font": {
           "color": "#2a3f5f"
          },
          "geo": {
           "bgcolor": "white",
           "lakecolor": "white",
           "landcolor": "#E5ECF6",
           "showlakes": true,
           "showland": true,
           "subunitcolor": "white"
          },
          "hoverlabel": {
           "align": "left"
          },
          "hovermode": "closest",
          "mapbox": {
           "style": "light"
          },
          "paper_bgcolor": "white",
          "plot_bgcolor": "#E5ECF6",
          "polar": {
           "angularaxis": {
            "gridcolor": "white",
            "linecolor": "white",
            "ticks": ""
           },
           "bgcolor": "#E5ECF6",
           "radialaxis": {
            "gridcolor": "white",
            "linecolor": "white",
            "ticks": ""
           }
          },
          "scene": {
           "xaxis": {
            "backgroundcolor": "#E5ECF6",
            "gridcolor": "white",
            "gridwidth": 2,
            "linecolor": "white",
            "showbackground": true,
            "ticks": "",
            "zerolinecolor": "white"
           },
           "yaxis": {
            "backgroundcolor": "#E5ECF6",
            "gridcolor": "white",
            "gridwidth": 2,
            "linecolor": "white",
            "showbackground": true,
            "ticks": "",
            "zerolinecolor": "white"
           },
           "zaxis": {
            "backgroundcolor": "#E5ECF6",
            "gridcolor": "white",
            "gridwidth": 2,
            "linecolor": "white",
            "showbackground": true,
            "ticks": "",
            "zerolinecolor": "white"
           }
          },
          "shapedefaults": {
           "line": {
            "color": "#2a3f5f"
           }
          },
          "ternary": {
           "aaxis": {
            "gridcolor": "white",
            "linecolor": "white",
            "ticks": ""
           },
           "baxis": {
            "gridcolor": "white",
            "linecolor": "white",
            "ticks": ""
           },
           "bgcolor": "#E5ECF6",
           "caxis": {
            "gridcolor": "white",
            "linecolor": "white",
            "ticks": ""
           }
          },
          "title": {
           "x": 0.05
          },
          "xaxis": {
           "automargin": true,
           "gridcolor": "white",
           "linecolor": "white",
           "ticks": "",
           "title": {
            "standoff": 15
           },
           "zerolinecolor": "white",
           "zerolinewidth": 2
          },
          "yaxis": {
           "automargin": true,
           "gridcolor": "white",
           "linecolor": "white",
           "ticks": "",
           "title": {
            "standoff": 15
           },
           "zerolinecolor": "white",
           "zerolinewidth": 2
          }
         }
        },
        "width": 1000,
        "xaxis": {
         "fixedrange": true,
         "gridcolor": "#1f292f",
         "rangeslider": {
          "visible": false
         },
         "showgrid": true
        },
        "yaxis": {
         "gridcolor": "#1f292f",
         "showgrid": true
        }
       }
      }
     },
     "metadata": {},
     "output_type": "display_data"
    }
   ],
   "source": [
    "fig = go.Figure()\n",
    "fig.add_trace(go.Candlestick(\n",
    "    x=df_plot.time, open=df_plot.mid_o, high=df_plot.mid_h, low=df_plot.mid_l, close=df_plot.mid_c,\n",
    "    line=dict(width=1), opacity=1,\n",
    "    increasing_fillcolor='#24A06B',\n",
    "    decreasing_fillcolor=\"#CC2E3C\",\n",
    "    increasing_line_color='#2EC886',  \n",
    "    decreasing_line_color='#FF3A4C'\n",
    "))\n",
    "for ma in ma_list:  \n",
    "    col = f\"MA_{ma}\"\n",
    "    fig.add_trace(go.Scatter(x=df_plot.time, \n",
    "        y=df_plot[col],\n",
    "        line=dict(width=2),\n",
    "        line_shape='spline',\n",
    "        name=col\n",
    "        ))\n",
    "fig.update_layout(width=1000,height=400,\n",
    "    margin=dict(l=10,r=10,b=10,t=10),\n",
    "    font=dict(size=10,color=\"#e1e1e1\"),\n",
    "    paper_bgcolor=\"#1e1e1e\",\n",
    "    plot_bgcolor=\"#1e1e1e\")\n",
    "fig.update_xaxes(\n",
    "    gridcolor=\"#1f292f\",\n",
    "    showgrid=True,fixedrange=True,rangeslider=dict(visible=False)\n",
    ")\n",
    "fig.update_yaxes(\n",
    "    gridcolor=\"#1f292f\",\n",
    "    showgrid=True\n",
    ")\n",
    "fig.show()"
   ]
  }
 ],
 "metadata": {
  "kernelspec": {
   "display_name": "Python 3",
   "language": "python",
   "name": "python3"
  },
  "language_info": {
   "codemirror_mode": {
    "name": "ipython",
    "version": 3
   },
   "file_extension": ".py",
   "mimetype": "text/x-python",
   "name": "python",
   "nbconvert_exporter": "python",
   "pygments_lexer": "ipython3",
   "version": "3.11.9"
  },
  "orig_nbformat": 2
 },
 "nbformat": 4,
 "nbformat_minor": 2
}
